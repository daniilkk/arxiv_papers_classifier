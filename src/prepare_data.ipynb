{
 "cells": [
  {
   "cell_type": "code",
   "execution_count": 51,
   "metadata": {},
   "outputs": [],
   "source": [
    "import pandas as pd\n",
    "import matplotlib.pyplot as plt\n",
    "\n",
    "from collections import defaultdict, Counter\n",
    "import json"
   ]
  },
  {
   "cell_type": "code",
   "execution_count": 52,
   "metadata": {},
   "outputs": [],
   "source": [
    "with open('arxivData.json', 'r') as fp:\n",
    "    data_base = json.load(fp)"
   ]
  },
  {
   "cell_type": "code",
   "execution_count": 9,
   "metadata": {},
   "outputs": [],
   "source": [
    "TARGET_FEATURES = ('cs', 'math', 'physics', 'q-bio', 'q-fin', 'stat', 'econ', 'eess')"
   ]
  },
  {
   "cell_type": "code",
   "execution_count": 54,
   "metadata": {},
   "outputs": [],
   "source": [
    "def tag_to_major(tag: str) -> str | None:\n",
    "    if '.' not in tag:\n",
    "        return None\n",
    "    major = tag.split('.')[0]\n",
    "\n",
    "    if major in ('cs', 'math', 'physics', 'q-bio', 'q-fin', 'stat', 'econ', 'eess'):\n",
    "        return major\n",
    "    \n",
    "    if major in ('astro-ph', 'nlin', 'cond-mat'):\n",
    "        return 'physics'\n",
    "    \n",
    "    return None\n",
    "\n",
    "def parse_sample_majors(sample) -> list[str]:\n",
    "    # Yes, this is bad, but who stores data as stringified python objects?\n",
    "    sample_tags = eval(sample['tag'])\n",
    "\n",
    "    result = set()\n",
    "    for tag in sample_tags:\n",
    "        major = tag_to_major(tag['term'])\n",
    "        if major is not None:\n",
    "            result.add(major)\n",
    "\n",
    "    return list(result)"
   ]
  },
  {
   "cell_type": "code",
   "execution_count": 55,
   "metadata": {},
   "outputs": [],
   "source": [
    "majors_counter = Counter()\n",
    "majors_per_paper = list()\n",
    "df_dict = defaultdict(list)\n",
    "for sample in data_base:\n",
    "    sample_majors = parse_sample_majors(sample)\n",
    "    if len(sample_majors) == 0:\n",
    "        continue\n",
    "    \n",
    "    df_dict['id'].append(sample['id'])\n",
    "    df_dict['abstract'].append(sample['summary'])\n",
    "    df_dict['title'].append(sample['title'])\n",
    "    df_dict['majors'].append(sample_majors)\n",
    "\n",
    "    for major in sample_majors:\n",
    "        majors_counter[major] += 1\n",
    "    \n",
    "    majors_per_paper.append(len(sample_majors))\n",
    "\n",
    "df = pd.DataFrame(df_dict)"
   ]
  },
  {
   "cell_type": "code",
   "execution_count": 56,
   "metadata": {},
   "outputs": [
    {
     "data": {
      "text/html": [
       "<div>\n",
       "<style scoped>\n",
       "    .dataframe tbody tr th:only-of-type {\n",
       "        vertical-align: middle;\n",
       "    }\n",
       "\n",
       "    .dataframe tbody tr th {\n",
       "        vertical-align: top;\n",
       "    }\n",
       "\n",
       "    .dataframe thead th {\n",
       "        text-align: right;\n",
       "    }\n",
       "</style>\n",
       "<table border=\"1\" class=\"dataframe\">\n",
       "  <thead>\n",
       "    <tr style=\"text-align: right;\">\n",
       "      <th></th>\n",
       "      <th>id</th>\n",
       "      <th>abstract</th>\n",
       "      <th>title</th>\n",
       "      <th>majors</th>\n",
       "    </tr>\n",
       "  </thead>\n",
       "  <tbody>\n",
       "    <tr>\n",
       "      <th>0</th>\n",
       "      <td>1802.00209v1</td>\n",
       "      <td>We propose an architecture for VQA which utili...</td>\n",
       "      <td>Dual Recurrent Attention Units for Visual Ques...</td>\n",
       "      <td>[stat, cs]</td>\n",
       "    </tr>\n",
       "    <tr>\n",
       "      <th>1</th>\n",
       "      <td>1603.03827v1</td>\n",
       "      <td>Recent approaches based on artificial neural n...</td>\n",
       "      <td>Sequential Short-Text Classification with Recu...</td>\n",
       "      <td>[stat, cs]</td>\n",
       "    </tr>\n",
       "    <tr>\n",
       "      <th>2</th>\n",
       "      <td>1606.00776v2</td>\n",
       "      <td>We introduce the multiresolution recurrent neu...</td>\n",
       "      <td>Multiresolution Recurrent Neural Networks: An ...</td>\n",
       "      <td>[stat, cs]</td>\n",
       "    </tr>\n",
       "    <tr>\n",
       "      <th>3</th>\n",
       "      <td>1705.08142v2</td>\n",
       "      <td>Multi-task learning is motivated by the observ...</td>\n",
       "      <td>Learning what to share between loosely related...</td>\n",
       "      <td>[stat, cs]</td>\n",
       "    </tr>\n",
       "    <tr>\n",
       "      <th>4</th>\n",
       "      <td>1709.02349v2</td>\n",
       "      <td>We present MILABOT: a deep reinforcement learn...</td>\n",
       "      <td>A Deep Reinforcement Learning Chatbot</td>\n",
       "      <td>[stat, cs]</td>\n",
       "    </tr>\n",
       "    <tr>\n",
       "      <th>...</th>\n",
       "      <td>...</td>\n",
       "      <td>...</td>\n",
       "      <td>...</td>\n",
       "      <td>...</td>\n",
       "    </tr>\n",
       "    <tr>\n",
       "      <th>40995</th>\n",
       "      <td>1404.4702v2</td>\n",
       "      <td>We study the complexity of learning and approx...</td>\n",
       "      <td>Nearly Tight Bounds on $\\ell_1$ Approximation ...</td>\n",
       "      <td>[cs]</td>\n",
       "    </tr>\n",
       "    <tr>\n",
       "      <th>40996</th>\n",
       "      <td>1404.5421v1</td>\n",
       "      <td>We consider the problem of multiple users targ...</td>\n",
       "      <td>Concurrent bandits and cognitive radio networks</td>\n",
       "      <td>[cs]</td>\n",
       "    </tr>\n",
       "    <tr>\n",
       "      <th>40997</th>\n",
       "      <td>1404.5899v1</td>\n",
       "      <td>In this paper, we compare and analyze clusteri...</td>\n",
       "      <td>A Comparison of Clustering and Missing Data Me...</td>\n",
       "      <td>[math, cs]</td>\n",
       "    </tr>\n",
       "    <tr>\n",
       "      <th>40998</th>\n",
       "      <td>1404.6369v1</td>\n",
       "      <td>Cylindrical algebraic decomposition(CAD) is a ...</td>\n",
       "      <td>Applying machine learning to the problem of ch...</td>\n",
       "      <td>[cs]</td>\n",
       "    </tr>\n",
       "    <tr>\n",
       "      <th>40999</th>\n",
       "      <td>1407.0380v1</td>\n",
       "      <td>Several speaker identification systems are giv...</td>\n",
       "      <td>A Multi Level Data Fusion Approach for Speaker...</td>\n",
       "      <td>[cs]</td>\n",
       "    </tr>\n",
       "  </tbody>\n",
       "</table>\n",
       "<p>41000 rows × 4 columns</p>\n",
       "</div>"
      ],
      "text/plain": [
       "                 id                                           abstract  \\\n",
       "0      1802.00209v1  We propose an architecture for VQA which utili...   \n",
       "1      1603.03827v1  Recent approaches based on artificial neural n...   \n",
       "2      1606.00776v2  We introduce the multiresolution recurrent neu...   \n",
       "3      1705.08142v2  Multi-task learning is motivated by the observ...   \n",
       "4      1709.02349v2  We present MILABOT: a deep reinforcement learn...   \n",
       "...             ...                                                ...   \n",
       "40995   1404.4702v2  We study the complexity of learning and approx...   \n",
       "40996   1404.5421v1  We consider the problem of multiple users targ...   \n",
       "40997   1404.5899v1  In this paper, we compare and analyze clusteri...   \n",
       "40998   1404.6369v1  Cylindrical algebraic decomposition(CAD) is a ...   \n",
       "40999   1407.0380v1  Several speaker identification systems are giv...   \n",
       "\n",
       "                                                   title      majors  \n",
       "0      Dual Recurrent Attention Units for Visual Ques...  [stat, cs]  \n",
       "1      Sequential Short-Text Classification with Recu...  [stat, cs]  \n",
       "2      Multiresolution Recurrent Neural Networks: An ...  [stat, cs]  \n",
       "3      Learning what to share between loosely related...  [stat, cs]  \n",
       "4                  A Deep Reinforcement Learning Chatbot  [stat, cs]  \n",
       "...                                                  ...         ...  \n",
       "40995  Nearly Tight Bounds on $\\ell_1$ Approximation ...        [cs]  \n",
       "40996    Concurrent bandits and cognitive radio networks        [cs]  \n",
       "40997  A Comparison of Clustering and Missing Data Me...  [math, cs]  \n",
       "40998  Applying machine learning to the problem of ch...        [cs]  \n",
       "40999  A Multi Level Data Fusion Approach for Speaker...        [cs]  \n",
       "\n",
       "[41000 rows x 4 columns]"
      ]
     },
     "execution_count": 56,
     "metadata": {},
     "output_type": "execute_result"
    }
   ],
   "source": [
    "df"
   ]
  },
  {
   "cell_type": "code",
   "execution_count": 57,
   "metadata": {},
   "outputs": [
    {
     "data": {
      "text/plain": [
       "Counter({'cs': 39251,\n",
       "         'stat': 10618,\n",
       "         'math': 2263,\n",
       "         'physics': 1075,\n",
       "         'q-bio': 897,\n",
       "         'eess': 220,\n",
       "         'q-fin': 66,\n",
       "         'econ': 13})"
      ]
     },
     "execution_count": 57,
     "metadata": {},
     "output_type": "execute_result"
    }
   ],
   "source": [
    "majors_counter"
   ]
  },
  {
   "cell_type": "code",
   "execution_count": 58,
   "metadata": {},
   "outputs": [
    {
     "data": {
      "text/plain": [
       "Counter({1: 29896, 2: 8890, 3: 2133, 4: 77, 5: 4})"
      ]
     },
     "execution_count": 58,
     "metadata": {},
     "output_type": "execute_result"
    }
   ],
   "source": [
    "Counter(majors_per_paper)"
   ]
  },
  {
   "cell_type": "code",
   "execution_count": 59,
   "metadata": {},
   "outputs": [
    {
     "data": {
      "image/png": "[encoded data removed]",
      "text/plain": [
       "<Figure size 640x480 with 1 Axes>"
      ]
     },
     "metadata": {},
     "output_type": "display_data"
    }
   ],
   "source": [
    "plt.hist(df['abstract'].apply(len))\n",
    "plt.show();"
   ]
  },
  {
   "cell_type": "code",
   "execution_count": 60,
   "metadata": {},
   "outputs": [
    {
     "data": {
      "image/png": "[encoded data removed]",
      "text/plain": [
       "<Figure size 640x480 with 1 Axes>"
      ]
     },
     "metadata": {},
     "output_type": "display_data"
    }
   ],
   "source": [
    "plt.hist(df['title'].apply(len))\n",
    "plt.show();"
   ]
  },
  {
   "cell_type": "code",
   "execution_count": 61,
   "metadata": {},
   "outputs": [],
   "source": [
    "df.to_csv('base_data.csv', index=False)"
   ]
  },
  {
   "cell_type": "code",
   "execution_count": 62,
   "metadata": {},
   "outputs": [
    {
     "data": {
      "text/html": [
       "<div>\n",
       "<style scoped>\n",
       "    .dataframe tbody tr th:only-of-type {\n",
       "        vertical-align: middle;\n",
       "    }\n",
       "\n",
       "    .dataframe tbody tr th {\n",
       "        vertical-align: top;\n",
       "    }\n",
       "\n",
       "    .dataframe thead th {\n",
       "        text-align: right;\n",
       "    }\n",
       "</style>\n",
       "<table border=\"1\" class=\"dataframe\">\n",
       "  <thead>\n",
       "    <tr style=\"text-align: right;\">\n",
       "      <th></th>\n",
       "      <th>id</th>\n",
       "      <th>abstract</th>\n",
       "      <th>title</th>\n",
       "      <th>majors</th>\n",
       "    </tr>\n",
       "  </thead>\n",
       "  <tbody>\n",
       "    <tr>\n",
       "      <th>0</th>\n",
       "      <td>1802.00209v1</td>\n",
       "      <td>We propose an architecture for VQA which utili...</td>\n",
       "      <td>Dual Recurrent Attention Units for Visual Ques...</td>\n",
       "      <td>['stat', 'cs']</td>\n",
       "    </tr>\n",
       "    <tr>\n",
       "      <th>1</th>\n",
       "      <td>1603.03827v1</td>\n",
       "      <td>Recent approaches based on artificial neural n...</td>\n",
       "      <td>Sequential Short-Text Classification with Recu...</td>\n",
       "      <td>['stat', 'cs']</td>\n",
       "    </tr>\n",
       "    <tr>\n",
       "      <th>2</th>\n",
       "      <td>1606.00776v2</td>\n",
       "      <td>We introduce the multiresolution recurrent neu...</td>\n",
       "      <td>Multiresolution Recurrent Neural Networks: An ...</td>\n",
       "      <td>['stat', 'cs']</td>\n",
       "    </tr>\n",
       "    <tr>\n",
       "      <th>3</th>\n",
       "      <td>1705.08142v2</td>\n",
       "      <td>Multi-task learning is motivated by the observ...</td>\n",
       "      <td>Learning what to share between loosely related...</td>\n",
       "      <td>['stat', 'cs']</td>\n",
       "    </tr>\n",
       "    <tr>\n",
       "      <th>4</th>\n",
       "      <td>1709.02349v2</td>\n",
       "      <td>We present MILABOT: a deep reinforcement learn...</td>\n",
       "      <td>A Deep Reinforcement Learning Chatbot</td>\n",
       "      <td>['stat', 'cs']</td>\n",
       "    </tr>\n",
       "    <tr>\n",
       "      <th>...</th>\n",
       "      <td>...</td>\n",
       "      <td>...</td>\n",
       "      <td>...</td>\n",
       "      <td>...</td>\n",
       "    </tr>\n",
       "    <tr>\n",
       "      <th>40995</th>\n",
       "      <td>1404.4702v2</td>\n",
       "      <td>We study the complexity of learning and approx...</td>\n",
       "      <td>Nearly Tight Bounds on $\\ell_1$ Approximation ...</td>\n",
       "      <td>['cs']</td>\n",
       "    </tr>\n",
       "    <tr>\n",
       "      <th>40996</th>\n",
       "      <td>1404.5421v1</td>\n",
       "      <td>We consider the problem of multiple users targ...</td>\n",
       "      <td>Concurrent bandits and cognitive radio networks</td>\n",
       "      <td>['cs']</td>\n",
       "    </tr>\n",
       "    <tr>\n",
       "      <th>40997</th>\n",
       "      <td>1404.5899v1</td>\n",
       "      <td>In this paper, we compare and analyze clusteri...</td>\n",
       "      <td>A Comparison of Clustering and Missing Data Me...</td>\n",
       "      <td>['math', 'cs']</td>\n",
       "    </tr>\n",
       "    <tr>\n",
       "      <th>40998</th>\n",
       "      <td>1404.6369v1</td>\n",
       "      <td>Cylindrical algebraic decomposition(CAD) is a ...</td>\n",
       "      <td>Applying machine learning to the problem of ch...</td>\n",
       "      <td>['cs']</td>\n",
       "    </tr>\n",
       "    <tr>\n",
       "      <th>40999</th>\n",
       "      <td>1407.0380v1</td>\n",
       "      <td>Several speaker identification systems are giv...</td>\n",
       "      <td>A Multi Level Data Fusion Approach for Speaker...</td>\n",
       "      <td>['cs']</td>\n",
       "    </tr>\n",
       "  </tbody>\n",
       "</table>\n",
       "<p>41000 rows × 4 columns</p>\n",
       "</div>"
      ],
      "text/plain": [
       "                 id                                           abstract  \\\n",
       "0      1802.00209v1  We propose an architecture for VQA which utili...   \n",
       "1      1603.03827v1  Recent approaches based on artificial neural n...   \n",
       "2      1606.00776v2  We introduce the multiresolution recurrent neu...   \n",
       "3      1705.08142v2  Multi-task learning is motivated by the observ...   \n",
       "4      1709.02349v2  We present MILABOT: a deep reinforcement learn...   \n",
       "...             ...                                                ...   \n",
       "40995   1404.4702v2  We study the complexity of learning and approx...   \n",
       "40996   1404.5421v1  We consider the problem of multiple users targ...   \n",
       "40997   1404.5899v1  In this paper, we compare and analyze clusteri...   \n",
       "40998   1404.6369v1  Cylindrical algebraic decomposition(CAD) is a ...   \n",
       "40999   1407.0380v1  Several speaker identification systems are giv...   \n",
       "\n",
       "                                                   title          majors  \n",
       "0      Dual Recurrent Attention Units for Visual Ques...  ['stat', 'cs']  \n",
       "1      Sequential Short-Text Classification with Recu...  ['stat', 'cs']  \n",
       "2      Multiresolution Recurrent Neural Networks: An ...  ['stat', 'cs']  \n",
       "3      Learning what to share between loosely related...  ['stat', 'cs']  \n",
       "4                  A Deep Reinforcement Learning Chatbot  ['stat', 'cs']  \n",
       "...                                                  ...             ...  \n",
       "40995  Nearly Tight Bounds on $\\ell_1$ Approximation ...          ['cs']  \n",
       "40996    Concurrent bandits and cognitive radio networks          ['cs']  \n",
       "40997  A Comparison of Clustering and Missing Data Me...  ['math', 'cs']  \n",
       "40998  Applying machine learning to the problem of ch...          ['cs']  \n",
       "40999  A Multi Level Data Fusion Approach for Speaker...          ['cs']  \n",
       "\n",
       "[41000 rows x 4 columns]"
      ]
     },
     "execution_count": 62,
     "metadata": {},
     "output_type": "execute_result"
    }
   ],
   "source": [
    "pd.read_csv('base_data.csv')"
   ]
  }
 ],
 "metadata": {
  "kernelspec": {
   "display_name": "Python 3 (ipykernel)",
   "language": "python",
   "name": "python3"
  }
 },
 "nbformat": 4,
 "nbformat_minor": 2
}
